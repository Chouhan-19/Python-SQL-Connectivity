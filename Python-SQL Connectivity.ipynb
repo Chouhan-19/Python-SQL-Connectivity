{
 "cells": [
  {
   "cell_type": "code",
   "execution_count": 1,
   "id": "b5e8e5ae",
   "metadata": {},
   "outputs": [
    {
     "name": "stdout",
     "output_type": "stream",
     "text": [
      "Collecting pymysql\n",
      "  Downloading PyMySQL-1.1.1-py3-none-any.whl (44 kB)\n",
      "     ---------------------------------------- 45.0/45.0 kB 1.1 MB/s eta 0:00:00\n",
      "Installing collected packages: pymysql\n",
      "Successfully installed pymysql-1.1.1\n",
      "Note: you may need to restart the kernel to use updated packages.\n"
     ]
    }
   ],
   "source": [
    "pip install pymysql"
   ]
  },
  {
   "cell_type": "code",
   "execution_count": 2,
   "id": "0ea26973",
   "metadata": {},
   "outputs": [
    {
     "name": "stdout",
     "output_type": "stream",
     "text": [
      "Enter the Student_Id: 101 102 103 104 105 106 107 108 109 110\n",
      "Enter the Student Name:Mukesh Ajay Saloni Geeta Renu Seeta Mahesh Rahul Ram Sanjay\n",
      "Enter the Student Age: 22 23 24 26 21 22 23 24 21 20\n",
      "Enter the Student Course Name:Devops C C++ Java Python R PHP DS DA WebDevelopemnt\n",
      "Enter the Student Address:Jaipur Kota Ajmer Delhi Bikaner Rewari Jaipur Delhi Dausa Bundi\n"
     ]
    },
    {
     "data": {
      "text/plain": [
       "10"
      ]
     },
     "execution_count": 2,
     "metadata": {},
     "output_type": "execute_result"
    }
   ],
   "source": [
    "from sqlalchemy import create_engine\n",
    "import pymysql\n",
    "import pandas as pd\n",
    "\n",
    "# Credentials to database connection\n",
    "hostname=\"localhost\"\n",
    "dbname=\"ik\"\n",
    "uname=\"root\"\n",
    "pwd=\"redhat\"\n",
    "\n",
    "# Create dataframe\n",
    "a=list(map(int,input(\"Enter the Student_Id: \").split()))\n",
    "b=input(\"Enter the Student Name:\").split()\n",
    "c=list(map(int,input(\"Enter the Student Age: \").split()))\n",
    "d=input(\"Enter the Student Course Name:\").split()\n",
    "e=input(\"Enter the Student Address:\").split()\n",
    "Student_data = {\"Student_Id\":a,\"Student_Name\":b,\"Student_Age\":c,\"Course_Name\":d,\"Student_Address\":e};\n",
    "\n",
    "df = pd.DataFrame(Student_data)\n",
    "\n",
    "# Create SQLAlchemy engine to connect to MySQL Database\n",
    "engine = create_engine(\"mysql+pymysql://{user}:{pw}@{host}/{db}\"\n",
    "\t\t\t\t.format(host=hostname, db=dbname, user=uname, pw=pwd))\n",
    "\n",
    "# Convert dataframe to sql table                                   \n",
    "df.to_sql('student', engine, index=False)"
   ]
  },
  {
   "cell_type": "code",
   "execution_count": null,
   "id": "17168d11",
   "metadata": {},
   "outputs": [],
   "source": [
    "101 102 103 104 105 106 107 108 109 110\n",
    "Enter the Student Name:Mukesh Ajay Saloni Geeta Renu Seeta Mahesh Rahul Ram Sanjay\n",
    "Enter the Student Age: 22 23 24 26 21 22 23 24 21 20\n",
    "Enter the Student Course Name:Devops C C++ Java Python R PHP DS DA WebDevelopemnt\n",
    "Enter the Student Address:Jaipur Kota Ajmer Delhi Bikaner Rewari Jaipur Delhi Dausa Bundi"
   ]
  },
  {
   "cell_type": "markdown",
   "id": "496f07e7",
   "metadata": {},
   "source": [
    "# Reading data from MySQL to Pandas Dataframe"
   ]
  },
  {
   "cell_type": "code",
   "execution_count": 3,
   "id": "4f667610",
   "metadata": {},
   "outputs": [
    {
     "name": "stdout",
     "output_type": "stream",
     "text": [
      "   Student_Id Student_Name  Student_Age     Course_Name Student_Address\n",
      "0         101       Mukesh           22          Devops          Jaipur\n",
      "1         102         Ajay           23               C            Kota\n",
      "2         103       Saloni           24             C++           Ajmer\n",
      "3         104        Geeta           26            Java           Delhi\n",
      "4         105         Renu           21          Python         Bikaner\n",
      "5         106        Seeta           22               R          Rewari\n",
      "6         107       Mahesh           23             PHP          Jaipur\n",
      "7         108        Rahul           24              DS           Delhi\n",
      "8         109          Ram           21              DA           Dausa\n",
      "9         110       Sanjay           20  WebDevelopemnt           Bundi\n",
      "Mahesh\n"
     ]
    }
   ],
   "source": [
    "from sqlalchemy import create_engine\n",
    "import pandas as pd\n",
    "\n",
    "\n",
    "hostname=\"localhost\"\n",
    "dbname=\"ik\"\n",
    "uname=\"root\"\n",
    "pwd=\"redhat\"\n",
    "tablename=\"student\"\n",
    "\n",
    "engine = create_engine(\"mysql+pymysql://{user}:{pw}@{host}/{db}\"\n",
    "                           .format(host=hostname, db=dbname,\n",
    "                                   user=uname,pw=pwd))\n",
    "df = pd.read_sql(tablename, engine)\n",
    "print(df.head(10))\n",
    "a=df[\"Student_Name\"][6]\n",
    "print(a)"
   ]
  },
  {
   "cell_type": "code",
   "execution_count": null,
   "id": "141b7965",
   "metadata": {},
   "outputs": [],
   "source": []
  }
 ],
 "metadata": {
  "kernelspec": {
   "display_name": "Python 3 (ipykernel)",
   "language": "python",
   "name": "python3"
  },
  "language_info": {
   "codemirror_mode": {
    "name": "ipython",
    "version": 3
   },
   "file_extension": ".py",
   "mimetype": "text/x-python",
   "name": "python",
   "nbconvert_exporter": "python",
   "pygments_lexer": "ipython3",
   "version": "3.9.13"
  }
 },
 "nbformat": 4,
 "nbformat_minor": 5
}
